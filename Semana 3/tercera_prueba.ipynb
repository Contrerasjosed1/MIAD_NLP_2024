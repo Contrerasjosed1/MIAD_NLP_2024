{
  "cells": [
    {
      "cell_type": "markdown",
      "metadata": {
        "id": "SdcRb56bDKlX"
      },
      "source": [
        "![image info](https://raw.githubusercontent.com/davidzarruk/MIAD_ML_NLP_2023/main/images/banner_1.png)"
      ]
    },
    {
      "cell_type": "markdown",
      "metadata": {
        "id": "7NTzkK7UDKle"
      },
      "source": [
        "# Proyecto 1 - Predicción de precios de vehículos usados\n",
        "\n",
        "En este proyecto podrán poner en práctica sus conocimientos sobre modelos predictivos basados en árboles y ensambles, y sobre la disponibilización de modelos. Para su desarrollo tengan en cuenta las instrucciones dadas en la \"Guía del proyecto 1: Predicción de precios de vehículos usados\".\n",
        "\n",
        "**Entrega**: La entrega del proyecto deberán realizarla durante la semana 4. Sin embargo, es importante que avancen en la semana 3 en el modelado del problema y en parte del informe, tal y como se les indicó en la guía.\n",
        "\n",
        "Para hacer la entrega, deberán adjuntar el informe autocontenido en PDF a la actividad de entrega del proyecto que encontrarán en la semana 4, y subir el archivo de predicciones a la [competencia de Kaggle](https://www.kaggle.com/competitions/miad2024-12-prediccion-precio-vehiculos)."
      ]
    },
    {
      "cell_type": "markdown",
      "metadata": {
        "id": "vMjkssSaDKlh"
      },
      "source": [
        "# Procesamiento y exploración preliminar de datos"
      ]
    },
    {
      "cell_type": "code",
      "execution_count": 1,
      "metadata": {
        "id": "mAyLUrhTDKlj"
      },
      "outputs": [],
      "source": [
        "# librerías\n",
        "import pandas as pd\n",
        "import numpy as np\n",
        "\n",
        "import warnings\n",
        "warnings.filterwarnings('ignore')"
      ]
    },
    {
      "cell_type": "code",
      "execution_count": 2,
      "metadata": {
        "id": "6XkvrmVuDKlm"
      },
      "outputs": [],
      "source": [
        "# cargar datos (se tiene en .csv en local)\n",
        "df_train=pd.read_csv(\"dataTrain_carListings.csv\")\n",
        "# data test tiene una columna llamada ID, que solamente es el orden de numeros\n",
        "df_test=pd.read_csv(\"dataTest_carListings.csv\", index_col=0)\n",
        "# Cargar datos reales\n",
        "# df_real=pd.read_csv(\"true_car_listings.csv\")"
      ]
    },
    {
      "cell_type": "code",
      "execution_count": 3,
      "metadata": {
        "colab": {
          "base_uri": "https://localhost:8080/"
        },
        "id": "mk8Fj1gdDKlw",
        "outputId": "9437b007-7093-475b-ba3e-a3182c43aa22"
      },
      "outputs": [
        {
          "data": {
            "text/plain": [
              "Index(['Price', 'Year', 'Mileage', 'State', 'Make', 'Model'], dtype='object')"
            ]
          },
          "execution_count": 3,
          "metadata": {},
          "output_type": "execute_result"
        }
      ],
      "source": [
        "# eliminar columnas adicionales\n",
        "# df_real.drop([\"City\", \"Vin\"], axis=1, inplace=True)\n",
        "# df_real.columns"
      ]
    },
    {
      "cell_type": "markdown",
      "metadata": {
        "id": "AfhcgCw7ctyX"
      },
      "source": [
        "## Entrenamiento y calibración de XGB"
      ]
    },
    {
      "cell_type": "code",
      "execution_count": 4,
      "metadata": {
        "colab": {
          "base_uri": "https://localhost:8080/"
        },
        "id": "UhcUcqfQXQWI",
        "outputId": "479d7db4-079f-4d7a-a05a-040e9afac283"
      },
      "outputs": [
        {
          "name": "stdout",
          "output_type": "stream",
          "text": [
            "Requirement already satisfied: xgboost in c:\\users\\wendy\\anaconda3\\lib\\site-packages (2.0.3)\n",
            "Requirement already satisfied: numpy in c:\\users\\wendy\\anaconda3\\lib\\site-packages (from xgboost) (1.24.3)\n",
            "Requirement already satisfied: scipy in c:\\users\\wendy\\anaconda3\\lib\\site-packages (from xgboost) (1.11.1)\n",
            "Note: you may need to restart the kernel to use updated packages.\n"
          ]
        }
      ],
      "source": [
        "# pip install xgboost"
      ]
    },
    {
      "cell_type": "code",
      "execution_count": 3,
      "metadata": {
        "id": "DSRUgNBrieMx"
      },
      "outputs": [],
      "source": [
        "import sklearn.datasets\n",
        "import sklearn.metrics\n",
        "from sklearn.metrics import mean_squared_error\n",
        "from sklearn.model_selection import train_test_split\n",
        "import xgboost as xgb\n",
        "from xgboost import XGBRegressor"
      ]
    },
    {
      "cell_type": "code",
      "execution_count": 4,
      "metadata": {
        "colab": {
          "base_uri": "https://localhost:8080/"
        },
        "id": "V-w1SeBtj8DV",
        "outputId": "97249971-400c-4d0d-b00f-4b39934272ea"
      },
      "outputs": [
        {
          "name": "stdout",
          "output_type": "stream",
          "text": [
            "<class 'pandas.core.frame.DataFrame'>\n",
            "RangeIndex: 400000 entries, 0 to 399999\n",
            "Data columns (total 6 columns):\n",
            " #   Column   Non-Null Count   Dtype \n",
            "---  ------   --------------   ----- \n",
            " 0   Price    400000 non-null  int64 \n",
            " 1   Year     400000 non-null  int64 \n",
            " 2   Mileage  400000 non-null  int64 \n",
            " 3   State    400000 non-null  object\n",
            " 4   Make     400000 non-null  object\n",
            " 5   Model    400000 non-null  object\n",
            "dtypes: int64(3), object(3)\n",
            "memory usage: 18.3+ MB\n"
          ]
        }
      ],
      "source": [
        "df_train.info()"
      ]
    },
    {
      "cell_type": "code",
      "execution_count": 5,
      "metadata": {
        "id": "nA7XBgKCj7Gz"
      },
      "outputs": [],
      "source": [
        "# Codificar variables categóricas\n",
        "categorical_columns = ['State', 'Make', 'Model']\n",
        "df_train = pd.get_dummies(df_train, columns=categorical_columns).astype(int)"
      ]
    },
    {
      "cell_type": "code",
      "execution_count": 6,
      "metadata": {
        "colab": {
          "base_uri": "https://localhost:8080/"
        },
        "id": "uLdHctdRXQWL",
        "outputId": "6a18d770-6b7d-45eb-9054-7a5d4088c5c9"
      },
      "outputs": [
        {
          "name": "stdout",
          "output_type": "stream",
          "text": [
            "Tipo de X_train: <class 'pandas.core.frame.DataFrame'>\n",
            "Tipo de X_test: <class 'pandas.core.frame.DataFrame'>\n",
            "Tipo de y_train: <class 'pandas.core.series.Series'>\n",
            "Tipo de y_test: <class 'pandas.core.series.Series'>\n"
          ]
        }
      ],
      "source": [
        "import pandas as pd\n",
        "from sklearn.model_selection import train_test_split\n",
        "data = df_train.drop(['Price'], axis=1)\n",
        "target = df_train['Price']\n",
        "\n",
        "# Dividir los datos en conjuntos de entrenamiento y prueba\n",
        "X_train, X_test, y_train, y_test = train_test_split(data, target, test_size=0.25, random_state=42)\n",
        "\n",
        "# Convertir los arrays resultantes en DataFrames de pandas\n",
        "X_train = pd.DataFrame(X_train, columns=data.columns)\n",
        "X_test = pd.DataFrame(X_test, columns=data.columns)\n",
        "y_train = pd.Series(y_train, name='Price')\n",
        "y_test = pd.Series(y_test, name='Price')\n",
        "\n",
        "# Verifica los tipos de datos de las estructuras resultantes\n",
        "print(\"Tipo de X_train:\", type(X_train))\n",
        "print(\"Tipo de X_test:\", type(X_test))\n",
        "print(\"Tipo de y_train:\", type(y_train))\n",
        "print(\"Tipo de y_test:\", type(y_test))"
      ]
    },
    {
      "cell_type": "code",
      "execution_count": 7,
      "metadata": {
        "colab": {
          "base_uri": "https://localhost:8080/",
          "height": 248
        },
        "id": "g7J8SxNkiWz8",
        "outputId": "0f589011-b729-4496-a074-d3d53c2a140e"
      },
      "outputs": [
        {
          "data": {
            "text/html": [
              "<style>#sk-container-id-1 {color: black;background-color: white;}#sk-container-id-1 pre{padding: 0;}#sk-container-id-1 div.sk-toggleable {background-color: white;}#sk-container-id-1 label.sk-toggleable__label {cursor: pointer;display: block;width: 100%;margin-bottom: 0;padding: 0.3em;box-sizing: border-box;text-align: center;}#sk-container-id-1 label.sk-toggleable__label-arrow:before {content: \"▸\";float: left;margin-right: 0.25em;color: #696969;}#sk-container-id-1 label.sk-toggleable__label-arrow:hover:before {color: black;}#sk-container-id-1 div.sk-estimator:hover label.sk-toggleable__label-arrow:before {color: black;}#sk-container-id-1 div.sk-toggleable__content {max-height: 0;max-width: 0;overflow: hidden;text-align: left;background-color: #f0f8ff;}#sk-container-id-1 div.sk-toggleable__content pre {margin: 0.2em;color: black;border-radius: 0.25em;background-color: #f0f8ff;}#sk-container-id-1 input.sk-toggleable__control:checked~div.sk-toggleable__content {max-height: 200px;max-width: 100%;overflow: auto;}#sk-container-id-1 input.sk-toggleable__control:checked~label.sk-toggleable__label-arrow:before {content: \"▾\";}#sk-container-id-1 div.sk-estimator input.sk-toggleable__control:checked~label.sk-toggleable__label {background-color: #d4ebff;}#sk-container-id-1 div.sk-label input.sk-toggleable__control:checked~label.sk-toggleable__label {background-color: #d4ebff;}#sk-container-id-1 input.sk-hidden--visually {border: 0;clip: rect(1px 1px 1px 1px);clip: rect(1px, 1px, 1px, 1px);height: 1px;margin: -1px;overflow: hidden;padding: 0;position: absolute;width: 1px;}#sk-container-id-1 div.sk-estimator {font-family: monospace;background-color: #f0f8ff;border: 1px dotted black;border-radius: 0.25em;box-sizing: border-box;margin-bottom: 0.5em;}#sk-container-id-1 div.sk-estimator:hover {background-color: #d4ebff;}#sk-container-id-1 div.sk-parallel-item::after {content: \"\";width: 100%;border-bottom: 1px solid gray;flex-grow: 1;}#sk-container-id-1 div.sk-label:hover label.sk-toggleable__label {background-color: #d4ebff;}#sk-container-id-1 div.sk-serial::before {content: \"\";position: absolute;border-left: 1px solid gray;box-sizing: border-box;top: 0;bottom: 0;left: 50%;z-index: 0;}#sk-container-id-1 div.sk-serial {display: flex;flex-direction: column;align-items: center;background-color: white;padding-right: 0.2em;padding-left: 0.2em;position: relative;}#sk-container-id-1 div.sk-item {position: relative;z-index: 1;}#sk-container-id-1 div.sk-parallel {display: flex;align-items: stretch;justify-content: center;background-color: white;position: relative;}#sk-container-id-1 div.sk-item::before, #sk-container-id-1 div.sk-parallel-item::before {content: \"\";position: absolute;border-left: 1px solid gray;box-sizing: border-box;top: 0;bottom: 0;left: 50%;z-index: -1;}#sk-container-id-1 div.sk-parallel-item {display: flex;flex-direction: column;z-index: 1;position: relative;background-color: white;}#sk-container-id-1 div.sk-parallel-item:first-child::after {align-self: flex-end;width: 50%;}#sk-container-id-1 div.sk-parallel-item:last-child::after {align-self: flex-start;width: 50%;}#sk-container-id-1 div.sk-parallel-item:only-child::after {width: 0;}#sk-container-id-1 div.sk-dashed-wrapped {border: 1px dashed gray;margin: 0 0.4em 0.5em 0.4em;box-sizing: border-box;padding-bottom: 0.4em;background-color: white;}#sk-container-id-1 div.sk-label label {font-family: monospace;font-weight: bold;display: inline-block;line-height: 1.2em;}#sk-container-id-1 div.sk-label-container {text-align: center;}#sk-container-id-1 div.sk-container {/* jupyter's `normalize.less` sets `[hidden] { display: none; }` but bootstrap.min.css set `[hidden] { display: none !important; }` so we also need the `!important` here to be able to override the default hidden behavior on the sphinx rendered scikit-learn.org. See: https://github.com/scikit-learn/scikit-learn/issues/21755 */display: inline-block !important;position: relative;}#sk-container-id-1 div.sk-text-repr-fallback {display: none;}</style><div id=\"sk-container-id-1\" class=\"sk-top-container\"><div class=\"sk-text-repr-fallback\"><pre>XGBRegressor(base_score=None, booster=None, callbacks=None,\n",
              "             colsample_bylevel=None, colsample_bynode=None,\n",
              "             colsample_bytree=None, device=None, early_stopping_rounds=None,\n",
              "             enable_categorical=False, eval_metric=None, feature_types=None,\n",
              "             gamma=None, grow_policy=None, importance_type=None,\n",
              "             interaction_constraints=None, learning_rate=None, max_bin=None,\n",
              "             max_cat_threshold=None, max_cat_to_onehot=None,\n",
              "             max_delta_step=None, max_depth=None, max_leaves=None,\n",
              "             min_child_weight=None, missing=nan, monotone_constraints=None,\n",
              "             multi_strategy=None, n_estimators=None, n_jobs=None,\n",
              "             num_parallel_tree=None, random_state=42, ...)</pre><b>In a Jupyter environment, please rerun this cell to show the HTML representation or trust the notebook. <br />On GitHub, the HTML representation is unable to render, please try loading this page with nbviewer.org.</b></div><div class=\"sk-container\" hidden><div class=\"sk-item\"><div class=\"sk-estimator sk-toggleable\"><input class=\"sk-toggleable__control sk-hidden--visually\" id=\"sk-estimator-id-1\" type=\"checkbox\" checked><label for=\"sk-estimator-id-1\" class=\"sk-toggleable__label sk-toggleable__label-arrow\">XGBRegressor</label><div class=\"sk-toggleable__content\"><pre>XGBRegressor(base_score=None, booster=None, callbacks=None,\n",
              "             colsample_bylevel=None, colsample_bynode=None,\n",
              "             colsample_bytree=None, device=None, early_stopping_rounds=None,\n",
              "             enable_categorical=False, eval_metric=None, feature_types=None,\n",
              "             gamma=None, grow_policy=None, importance_type=None,\n",
              "             interaction_constraints=None, learning_rate=None, max_bin=None,\n",
              "             max_cat_threshold=None, max_cat_to_onehot=None,\n",
              "             max_delta_step=None, max_depth=None, max_leaves=None,\n",
              "             min_child_weight=None, missing=nan, monotone_constraints=None,\n",
              "             multi_strategy=None, n_estimators=None, n_jobs=None,\n",
              "             num_parallel_tree=None, random_state=42, ...)</pre></div></div></div></div></div>"
            ],
            "text/plain": [
              "XGBRegressor(base_score=None, booster=None, callbacks=None,\n",
              "             colsample_bylevel=None, colsample_bynode=None,\n",
              "             colsample_bytree=None, device=None, early_stopping_rounds=None,\n",
              "             enable_categorical=False, eval_metric=None, feature_types=None,\n",
              "             gamma=None, grow_policy=None, importance_type=None,\n",
              "             interaction_constraints=None, learning_rate=None, max_bin=None,\n",
              "             max_cat_threshold=None, max_cat_to_onehot=None,\n",
              "             max_delta_step=None, max_depth=None, max_leaves=None,\n",
              "             min_child_weight=None, missing=nan, monotone_constraints=None,\n",
              "             multi_strategy=None, n_estimators=None, n_jobs=None,\n",
              "             num_parallel_tree=None, random_state=42, ...)"
            ]
          },
          "execution_count": 7,
          "metadata": {},
          "output_type": "execute_result"
        }
      ],
      "source": [
        "# Modelo sin calibrar\n",
        "xgb_1 = XGBRegressor(random_state=42)\n",
        "xgb_1"
      ]
    },
    {
      "cell_type": "code",
      "execution_count": 8,
      "metadata": {
        "colab": {
          "base_uri": "https://localhost:8080/"
        },
        "id": "IxvytrwVip7w",
        "outputId": "2f4d25bd-c933-4c64-8279-c2881552c680"
      },
      "outputs": [
        {
          "name": "stdout",
          "output_type": "stream",
          "text": [
            "El modelo XGBRegressor tiene un RMSE igual a 4266.196601029799 y un MAE igual a 3039.4960325634765\n"
          ]
        }
      ],
      "source": [
        "# Entrenamiento y desempeño del modelo XGBRegressor\n",
        "xgb_1.fit(X_train, y_train)\n",
        "y_pred = xgb_1.predict(X_test)\n",
        "# Calculo del MSE y el MAE\n",
        "from sklearn.metrics import mean_squared_error, mean_absolute_error\n",
        "mse = mean_squared_error(y_test, y_pred)\n",
        "mae = mean_absolute_error(y_test, y_pred)\n",
        "rmse = np.sqrt(mse)\n",
        "print(\"El modelo XGBRegressor tiene un RMSE igual a \" +str(rmse)+ \" y un MAE igual a \"+str(mae))"
      ]
    },
    {
      "cell_type": "code",
      "execution_count": 9,
      "metadata": {
        "colab": {
          "base_uri": "https://localhost:8080/"
        },
        "id": "tqU7V7HIgn-z",
        "outputId": "cf0cda62-ca39-45c9-8f32-6f6de0a5d6dc"
      },
      "outputs": [
        {
          "name": "stdout",
          "output_type": "stream",
          "text": [
            "Collecting optuna\n",
            "  Downloading optuna-3.6.1-py3-none-any.whl.metadata (17 kB)\n",
            "Collecting alembic>=1.5.0 (from optuna)\n",
            "  Downloading alembic-1.13.1-py3-none-any.whl.metadata (7.4 kB)\n",
            "Collecting colorlog (from optuna)\n",
            "  Downloading colorlog-6.8.2-py3-none-any.whl.metadata (10 kB)\n",
            "Requirement already satisfied: numpy in /opt/anaconda3/lib/python3.11/site-packages (from optuna) (1.26.4)\n",
            "Requirement already satisfied: packaging>=20.0 in /opt/anaconda3/lib/python3.11/site-packages (from optuna) (23.1)\n",
            "Requirement already satisfied: sqlalchemy>=1.3.0 in /opt/anaconda3/lib/python3.11/site-packages (from optuna) (2.0.25)\n",
            "Requirement already satisfied: tqdm in /opt/anaconda3/lib/python3.11/site-packages (from optuna) (4.65.0)\n",
            "Requirement already satisfied: PyYAML in /opt/anaconda3/lib/python3.11/site-packages (from optuna) (6.0.1)\n",
            "Collecting Mako (from alembic>=1.5.0->optuna)\n",
            "  Downloading Mako-1.3.3-py3-none-any.whl.metadata (2.9 kB)\n",
            "Requirement already satisfied: typing-extensions>=4 in /opt/anaconda3/lib/python3.11/site-packages (from alembic>=1.5.0->optuna) (4.9.0)\n",
            "Requirement already satisfied: MarkupSafe>=0.9.2 in /opt/anaconda3/lib/python3.11/site-packages (from Mako->alembic>=1.5.0->optuna) (2.1.3)\n",
            "Downloading optuna-3.6.1-py3-none-any.whl (380 kB)\n",
            "\u001b[2K   \u001b[90m━━━━━━━━━━━━━━━━━━━━━━━━━━━━━━━━━━━━━━━━\u001b[0m \u001b[32m380.1/380.1 kB\u001b[0m \u001b[31m1.2 MB/s\u001b[0m eta \u001b[36m0:00:00\u001b[0ma \u001b[36m0:00:01\u001b[0mm\n",
            "\u001b[?25hDownloading alembic-1.13.1-py3-none-any.whl (233 kB)\n",
            "\u001b[2K   \u001b[90m━━━━━━━━━━━━━━━━━━━━━━━━━━━━━━━━━━━━━━━━\u001b[0m \u001b[32m233.4/233.4 kB\u001b[0m \u001b[31m4.8 MB/s\u001b[0m eta \u001b[36m0:00:00\u001b[0ma \u001b[36m0:00:01\u001b[0m\n",
            "\u001b[?25hDownloading colorlog-6.8.2-py3-none-any.whl (11 kB)\n",
            "Downloading Mako-1.3.3-py3-none-any.whl (78 kB)\n",
            "\u001b[2K   \u001b[90m━━━━━━━━━━━━━━━━━━━━━━━━━━━━━━━━━━━━━━━━\u001b[0m \u001b[32m78.8/78.8 kB\u001b[0m \u001b[31m4.4 MB/s\u001b[0m eta \u001b[36m0:00:00\u001b[0m\n",
            "\u001b[?25hInstalling collected packages: Mako, colorlog, alembic, optuna\n",
            "Successfully installed Mako-1.3.3 alembic-1.13.1 colorlog-6.8.2 optuna-3.6.1\n",
            "Note: you may need to restart the kernel to use updated packages.\n"
          ]
        }
      ],
      "source": [
        "# pip install optuna"
      ]
    },
    {
      "cell_type": "markdown",
      "metadata": {
        "id": "y0dDtGC8h6Eq"
      },
      "source": [
        "## Prueba 1\n",
        "Fuente: https://github.com/optuna/optuna-examples/blob/main/xgboost/xgboost_simple.py"
      ]
    },
    {
      "cell_type": "code",
      "execution_count": 10,
      "metadata": {},
      "outputs": [
        {
          "name": "stderr",
          "output_type": "stream",
          "text": [
            "[I 2024-04-21 12:20:30,828] A new study created in memory with name: no-name-33eca8ba-9df3-489a-90dc-011d51e34950\n",
            "[I 2024-04-21 12:24:49,453] Trial 0 finished with value: 37925401.11891 and parameters: {'lambda': 0.2377924860828489, 'alpha': 1.1928210388948983e-06, 'subsample': 0.517887910998116, 'colsample_bytree': 0.37144314887294033, 'max_depth': 9, 'min_child_weight': 4, 'eta': 0.4424348924249991, 'gamma': 0.07010736549875739, 'grow_policy': 'lossguide'}. Best is trial 0 with value: 37925401.11891.\n",
            "[I 2024-04-21 12:28:14,563] Trial 1 finished with value: 115477217.75042 and parameters: {'lambda': 3.3370263451803966e-05, 'alpha': 0.0023660342486206427, 'subsample': 0.5043220547062435, 'colsample_bytree': 0.600236878839564, 'max_depth': 9, 'min_child_weight': 8, 'eta': 3.104995561287136e-07, 'gamma': 0.05226933430037451, 'grow_policy': 'depthwise'}. Best is trial 0 with value: 37925401.11891.\n",
            "[I 2024-04-21 12:31:27,114] Trial 2 finished with value: 40165208.81444 and parameters: {'lambda': 2.3574874341341094e-05, 'alpha': 1.3310223317464752e-08, 'subsample': 0.8632565060485334, 'colsample_bytree': 0.9840772987363333, 'max_depth': 5, 'min_child_weight': 6, 'eta': 0.6430186258789877, 'gamma': 7.967326572347691e-06, 'grow_policy': 'depthwise'}. Best is trial 0 with value: 37925401.11891.\n"
          ]
        },
        {
          "name": "stdout",
          "output_type": "stream",
          "text": [
            "Number of finished trials:  3\n",
            "Best trial:\n",
            "  Value: 37925401.11891\n",
            "  Params: \n",
            "    lambda: 0.2377924860828489\n",
            "    alpha: 1.1928210388948983e-06\n",
            "    subsample: 0.517887910998116\n",
            "    colsample_bytree: 0.37144314887294033\n",
            "    max_depth: 9\n",
            "    min_child_weight: 4\n",
            "    eta: 0.4424348924249991\n",
            "    gamma: 0.07010736549875739\n",
            "    grow_policy: lossguide\n"
          ]
        }
      ],
      "source": [
        "import numpy as np\n",
        "import optuna\n",
        "from sklearn.metrics import mean_squared_error\n",
        "from sklearn.model_selection import train_test_split\n",
        "import xgboost as xgb\n",
        "\n",
        "np.random.seed(42)\n",
        "\n",
        "def objective(trial):\n",
        "    data = df_train.drop(['Price'], axis=1).values\n",
        "    target = df_train['Price'].values\n",
        "    train_x, valid_x, train_y, valid_y = train_test_split(data, target, test_size=0.25, random_state=42)\n",
        "    dtrain = xgb.DMatrix(train_x, label=train_y)\n",
        "    dvalid = xgb.DMatrix(valid_x, label=valid_y)\n",
        "\n",
        "    param = {\n",
        "        \"verbosity\": 0,\n",
        "        \"objective\": \"reg:squarederror\",\n",
        "        # use exact for small dataset.\n",
        "        \"tree_method\": \"approx\",\n",
        "        # defines booster, gblinear for linear functions.\n",
        "        \"booster\": \"gbtree\",  # Fijar el booster como gbtree\n",
        "        # L2 regularization weight.\n",
        "        \"lambda\": trial.suggest_float(\"lambda\", 1e-8, 1.0, log=True),\n",
        "        # L1 regularization weight.\n",
        "        \"alpha\": trial.suggest_float(\"alpha\", 1e-8, 1.0, log=True),\n",
        "        # sampling ratio for training data.\n",
        "        \"subsample\": trial.suggest_float(\"subsample\", 0.2, 1.0),\n",
        "        # sampling according to each tree.\n",
        "        \"colsample_bytree\": trial.suggest_float(\"colsample_bytree\", 0.2, 1.0),\n",
        "    }\n",
        "\n",
        "    # Parámetros específicos de gbtree\n",
        "    param[\"max_depth\"] = trial.suggest_int(\"max_depth\", 3, 9, step=2)\n",
        "    param[\"min_child_weight\"] = trial.suggest_int(\"min_child_weight\", 2, 10)\n",
        "    param[\"eta\"] = trial.suggest_float(\"eta\", 1e-8, 1.0, log=True)\n",
        "    param[\"gamma\"] = trial.suggest_float(\"gamma\", 1e-8, 1.0, log=True)\n",
        "    param[\"grow_policy\"] = trial.suggest_categorical(\"grow_policy\", [\"depthwise\", \"lossguide\"])\n",
        "\n",
        "    bst = xgb.train(param, dtrain)\n",
        "    preds = bst.predict(dvalid)\n",
        "    pred_labels = np.rint(preds)\n",
        "    mse = mean_squared_error(valid_y, pred_labels)\n",
        "    return mse\n",
        "\n",
        "if __name__ == \"__main__\":\n",
        "    study = optuna.create_study(direction=\"minimize\")\n",
        "    study.optimize(objective, n_trials=50, timeout=600)\n",
        "\n",
        "    print(\"Number of finished trials: \", len(study.trials))\n",
        "    print(\"Best trial:\")\n",
        "    trial = study.best_trial\n",
        "\n",
        "    print(\"  Value: {}\".format(trial.value))\n",
        "    print(\"  Params: \")\n",
        "    for key, value in trial.params.items():\n",
        "        print(\"    {}: {}\".format(key, value))"
      ]
    },
    {
      "cell_type": "code",
      "execution_count": 11,
      "metadata": {},
      "outputs": [
        {
          "name": "stdout",
          "output_type": "stream",
          "text": [
            "El modelo XGB calibrado usando GreedSearch tiene un RMSE igual a 3814.2775905936596 y un MAE igual a 2524.4249530563734\n"
          ]
        }
      ],
      "source": [
        "# Definición del modelo XGBoost con los parámetros encontrados por Optuna\n",
        "xgb_calibrado = XGBRegressor(\n",
        "    booster='gbtree',\n",
        "    reg_lambda=0.0006300622095494117,\n",
        "    alpha=0.00014622406232897364,\n",
        "    subsample=0.23255033200475195,\n",
        "    colsample_bytree=0.4885554959213272,\n",
        "    max_depth=9,\n",
        "    min_child_weight=8,\n",
        "    eta=0.7114903492018297,\n",
        "    gamma=6.252368056908203e-05,\n",
        "    grow_policy='lossguide',\n",
        "    random_state=1\n",
        ")\n",
        "xgb_calibrado.fit(X_train, y_train)\n",
        "y_pred = xgb_calibrado.predict(X_test)\n",
        "mse_xgb_calibrado = mean_squared_error(y_test, y_pred)\n",
        "mae_xgb_calibrado = mean_absolute_error(y_test, y_pred)\n",
        "rmse_xgb_calibrado = np.sqrt(mse_xgb_calibrado)\n",
        "print(\"El modelo XGB calibrado usando GreedSearch tiene un RMSE igual a \" +str(rmse_xgb_calibrado)+ \" y un MAE igual a \"+str(mae_xgb_calibrado))"
      ]
    },
    {
      "cell_type": "code",
      "execution_count": 12,
      "metadata": {},
      "outputs": [
        {
          "name": "stderr",
          "output_type": "stream",
          "text": [
            "[I 2024-04-21 12:31:32,436] A new study created in memory with name: no-name-82da397a-87c5-4c63-8bf0-a96a089c94a3\n",
            "[I 2024-04-21 12:34:26,640] Trial 0 finished with value: 115157053.90523 and parameters: {'lambda': 0.003821045178997646, 'alpha': 4.6153819347255276e-05, 'subsample': 0.6885969782823933, 'colsample_bytree': 0.2416612299893023, 'max_depth': 5, 'min_child_weight': 4, 'eta': 0.0008791976332645826, 'gamma': 5.450329820320646e-07, 'grow_policy': 'lossguide'}. Best is trial 0 with value: 115157053.90523.\n",
            "[I 2024-04-21 12:37:57,135] Trial 1 finished with value: 105737286.76907 and parameters: {'lambda': 0.011166730434234362, 'alpha': 0.037878457109529695, 'subsample': 0.2272940763931083, 'colsample_bytree': 0.3956114672299532, 'max_depth': 3, 'min_child_weight': 2, 'eta': 0.028213157813213378, 'gamma': 0.00016075556493695383, 'grow_policy': 'lossguide'}. Best is trial 1 with value: 105737286.76907.\n",
            "[I 2024-04-21 12:40:59,454] Trial 2 finished with value: 111473270.00924 and parameters: {'lambda': 0.22986921745615574, 'alpha': 2.201385457746818e-08, 'subsample': 0.24121839377271767, 'colsample_bytree': 0.50358597280775, 'max_depth': 5, 'min_child_weight': 10, 'eta': 0.006998716247270864, 'gamma': 4.0683165161073765e-05, 'grow_policy': 'lossguide'}. Best is trial 1 with value: 105737286.76907.\n",
            "[I 2024-04-21 12:42:55,943] Trial 3 finished with value: 72818784.22598 and parameters: {'lambda': 0.0004316299082724523, 'alpha': 0.6267954247904204, 'subsample': 0.8838090182315328, 'colsample_bytree': 0.5519289342356889, 'max_depth': 7, 'min_child_weight': 6, 'eta': 0.0952435381470123, 'gamma': 0.00010237601066799779, 'grow_policy': 'lossguide'}. Best is trial 3 with value: 72818784.22598.\n"
          ]
        },
        {
          "name": "stdout",
          "output_type": "stream",
          "text": [
            "Number of finished trials:  4\n",
            "Best trial:\n",
            "  Value: 72818784.22598\n",
            "  Params: \n",
            "    lambda: 0.0004316299082724523\n",
            "    alpha: 0.6267954247904204\n",
            "    subsample: 0.8838090182315328\n",
            "    colsample_bytree: 0.5519289342356889\n",
            "    max_depth: 7\n",
            "    min_child_weight: 6\n",
            "    eta: 0.0952435381470123\n",
            "    gamma: 0.00010237601066799779\n",
            "    grow_policy: lossguide\n"
          ]
        }
      ],
      "source": [
        "# Intento #2 agregando más ensayos\n",
        "np.random.seed(42)\n",
        "\n",
        "def objective(trial):\n",
        "    data = df_train.drop(['Price'], axis=1).values\n",
        "    target = df_train['Price'].values\n",
        "    train_x, valid_x, train_y, valid_y = train_test_split(data, target, test_size=0.25, random_state=42)\n",
        "    dtrain = xgb.DMatrix(train_x, label=train_y)\n",
        "    dvalid = xgb.DMatrix(valid_x, label=valid_y)\n",
        "\n",
        "    param = {\n",
        "        \"verbosity\": 0,\n",
        "        \"objective\": \"reg:squarederror\",\n",
        "        # use exact for small dataset.\n",
        "        \"tree_method\": \"approx\",\n",
        "        # defines booster, gblinear for linear functions.\n",
        "        \"booster\": \"gbtree\",  # Fijar el booster como gbtree\n",
        "        # L2 regularization weight.\n",
        "        \"lambda\": trial.suggest_float(\"lambda\", 1e-8, 1.0, log=True),\n",
        "        # L1 regularization weight.\n",
        "        \"alpha\": trial.suggest_float(\"alpha\", 1e-8, 1.0, log=True),\n",
        "        # sampling ratio for training data.\n",
        "        \"subsample\": trial.suggest_float(\"subsample\", 0.2, 1.0),\n",
        "        # sampling according to each tree.\n",
        "        \"colsample_bytree\": trial.suggest_float(\"colsample_bytree\", 0.2, 1.0),\n",
        "    }\n",
        "\n",
        "    # Parámetros específicos de gbtree\n",
        "    param[\"max_depth\"] = trial.suggest_int(\"max_depth\", 3, 9, step=2)\n",
        "    param[\"min_child_weight\"] = trial.suggest_int(\"min_child_weight\", 2, 10)\n",
        "    param[\"eta\"] = trial.suggest_float(\"eta\", 1e-8, 1.0, log=True)\n",
        "    param[\"gamma\"] = trial.suggest_float(\"gamma\", 1e-8, 1.0, log=True)\n",
        "    param[\"grow_policy\"] = trial.suggest_categorical(\"grow_policy\", [\"depthwise\", \"lossguide\"])\n",
        "\n",
        "    bst = xgb.train(param, dtrain)\n",
        "    preds = bst.predict(dvalid)\n",
        "    pred_labels = np.rint(preds)\n",
        "    mse = mean_squared_error(valid_y, pred_labels)\n",
        "    return mse\n",
        "\n",
        "if __name__ == \"__main__\":\n",
        "    study = optuna.create_study(direction=\"minimize\")\n",
        "    study.optimize(objective, n_trials=100, timeout=600)\n",
        "\n",
        "    print(\"Number of finished trials: \", len(study.trials))\n",
        "    print(\"Best trial:\")\n",
        "    trial = study.best_trial\n",
        "\n",
        "    print(\"  Value: {}\".format(trial.value))\n",
        "    print(\"  Params: \")\n",
        "    for key, value in trial.params.items():\n",
        "        print(\"    {}: {}\".format(key, value))"
      ]
    },
    {
      "cell_type": "code",
      "execution_count": 13,
      "metadata": {},
      "outputs": [
        {
          "name": "stdout",
          "output_type": "stream",
          "text": [
            "El modelo XGB calibrado usando GreedSearch tiene un RMSE igual a 3835.3596453796845 y un MAE igual a 2457.922469499817\n"
          ]
        }
      ],
      "source": [
        "# Definición del modelo XGBoost con los parámetros encontrados por Optuna\n",
        "xgb_cal = XGBRegressor(\n",
        "    booster='gbtree',\n",
        "    reg_lambda=1.3618109137815986e-08,\n",
        "    alpha=0.0068473212560469085,\n",
        "    subsample=0.5383447526406704,\n",
        "    colsample_bytree=0.7375702235448874,\n",
        "    max_depth=9,\n",
        "    min_child_weight=4,\n",
        "    eta=0.925350157501082,\n",
        "    gamma=0.8591307262185451,\n",
        "    grow_policy='lossguide',\n",
        "    random_state=1\n",
        ")\n",
        "xgb_cal.fit(X_train, y_train)\n",
        "y_pred = xgb_cal.predict(X_test)\n",
        "mse_xgb_cal = mean_squared_error(y_test, y_pred)\n",
        "mae_xgb_cal = mean_absolute_error(y_test, y_pred)\n",
        "rmse_xgb_cal = np.sqrt(mse_xgb_cal)\n",
        "print(\"El modelo XGB calibrado usando GreedSearch tiene un RMSE igual a \" +str(rmse_xgb_cal)+ \" y un MAE igual a \"+str(mae_xgb_cal))"
      ]
    },
    {
      "cell_type": "code",
      "execution_count": 14,
      "metadata": {},
      "outputs": [
        {
          "name": "stderr",
          "output_type": "stream",
          "text": [
            "[I 2024-04-21 12:43:01,247] A new study created in memory with name: no-name-d14d3ac2-f68f-47af-956f-318aef29e9eb\n",
            "[I 2024-04-21 12:45:19,651] Trial 0 finished with value: 115477217.75042 and parameters: {'lambda': 1.1738823200956587e-06, 'alpha': 0.0017251777585260365, 'subsample': 0.922996261266547, 'colsample_bytree': 0.696063318938529, 'n_estimators': 777, 'max_depth': 9, 'min_child_weight': 8, 'eta': 4.22652728787663e-08, 'gamma': 0.1471061844077492, 'grow_policy': 'depthwise'}. Best is trial 0 with value: 115477217.75042.\n",
            "[I 2024-04-21 12:48:29,499] Trial 1 finished with value: 115467732.85083 and parameters: {'lambda': 8.230955577371347e-07, 'alpha': 2.700095340397065e-06, 'subsample': 0.7719839455531132, 'colsample_bytree': 0.6664030019113035, 'n_estimators': 569, 'max_depth': 5, 'min_child_weight': 5, 'eta': 1.3657559270503528e-05, 'gamma': 6.147125273169158e-07, 'grow_policy': 'depthwise'}. Best is trial 1 with value: 115467732.85083.\n",
            "[I 2024-04-21 12:51:06,117] Trial 2 finished with value: 115404505.76598 and parameters: {'lambda': 3.0358245656082176e-08, 'alpha': 0.03036260285258526, 'subsample': 0.5824522345077436, 'colsample_bytree': 0.2747510185779394, 'n_estimators': 804, 'max_depth': 7, 'min_child_weight': 5, 'eta': 0.0001703086935486815, 'gamma': 0.02883713337082216, 'grow_policy': 'lossguide'}. Best is trial 2 with value: 115404505.76598.\n",
            "[I 2024-04-21 12:53:58,412] Trial 3 finished with value: 89427533.73109 and parameters: {'lambda': 6.989665813272995e-08, 'alpha': 0.9754995163749206, 'subsample': 0.9783358276876455, 'colsample_bytree': 0.24445072505021673, 'n_estimators': 214, 'max_depth': 3, 'min_child_weight': 6, 'eta': 0.11181487244139884, 'gamma': 3.0749897595328207e-07, 'grow_policy': 'lossguide'}. Best is trial 3 with value: 89427533.73109.\n"
          ]
        },
        {
          "name": "stdout",
          "output_type": "stream",
          "text": [
            "Number of finished trials:  4\n",
            "Best trial:\n",
            "  Value: 89427533.73109\n",
            "  Params: \n",
            "    lambda: 6.989665813272995e-08\n",
            "    alpha: 0.9754995163749206\n",
            "    subsample: 0.9783358276876455\n",
            "    colsample_bytree: 0.24445072505021673\n",
            "    n_estimators: 214\n",
            "    max_depth: 3\n",
            "    min_child_weight: 6\n",
            "    eta: 0.11181487244139884\n",
            "    gamma: 3.0749897595328207e-07\n",
            "    grow_policy: lossguide\n"
          ]
        }
      ],
      "source": [
        "# intento # 3, agregando el parámetro n_estimators\n",
        "import numpy as np\n",
        "import optuna\n",
        "from sklearn.metrics import mean_squared_error\n",
        "from sklearn.model_selection import train_test_split\n",
        "import xgboost as xgb\n",
        "\n",
        "np.random.seed(42)\n",
        "\n",
        "def objective(trial):\n",
        "    data = df_train.drop(['Price'], axis=1).values\n",
        "    target = df_train['Price'].values\n",
        "    train_x, valid_x, train_y, valid_y = train_test_split(data, target, test_size=0.25, random_state=42)\n",
        "    dtrain = xgb.DMatrix(train_x, label=train_y)\n",
        "    dvalid = xgb.DMatrix(valid_x, label=valid_y)\n",
        "\n",
        "    param = {\n",
        "        \"verbosity\": 0,\n",
        "        \"objective\": \"reg:squarederror\",\n",
        "        # use exact for small dataset.\n",
        "        \"tree_method\": \"approx\",\n",
        "        # defines booster, gblinear for linear functions.\n",
        "        \"booster\": \"gbtree\",  # Fijar el booster como gbtree\n",
        "        # L2 regularization weight.\n",
        "        \"lambda\": trial.suggest_float(\"lambda\", 1e-8, 1.0, log=True),\n",
        "        # L1 regularization weight.\n",
        "        \"alpha\": trial.suggest_float(\"alpha\", 1e-8, 1.0, log=True),\n",
        "        # sampling ratio for training data.\n",
        "        \"subsample\": trial.suggest_float(\"subsample\", 0.2, 1.0),\n",
        "        # sampling according to each tree.\n",
        "        \"colsample_bytree\": trial.suggest_float(\"colsample_bytree\", 0.2, 1.0),\n",
        "        # número de árboles en el ensamble\n",
        "        \"n_estimators\": trial.suggest_int(\"n_estimators\", 100, 1000),\n",
        "    }\n",
        "\n",
        "    # Parámetros específicos de gbtree\n",
        "    param[\"max_depth\"] = trial.suggest_int(\"max_depth\", 3, 9, step=2)\n",
        "    param[\"min_child_weight\"] = trial.suggest_int(\"min_child_weight\", 2, 10)\n",
        "    param[\"eta\"] = trial.suggest_float(\"eta\", 1e-8, 1.0, log=True)\n",
        "    param[\"gamma\"] = trial.suggest_float(\"gamma\", 1e-8, 1.0, log=True)\n",
        "    param[\"grow_policy\"] = trial.suggest_categorical(\"grow_policy\", [\"depthwise\", \"lossguide\"])\n",
        "\n",
        "    bst = xgb.train(param, dtrain)\n",
        "    preds = bst.predict(dvalid)\n",
        "    pred_labels = np.rint(preds)\n",
        "    mse = mean_squared_error(valid_y, pred_labels)\n",
        "    return mse\n",
        "\n",
        "if __name__ == \"__main__\":\n",
        "    study = optuna.create_study(direction=\"minimize\")\n",
        "    study.optimize(objective, n_trials=50, timeout=600)\n",
        "\n",
        "    print(\"Number of finished trials: \", len(study.trials))\n",
        "    print(\"Best trial:\")\n",
        "    trial = study.best_trial\n",
        "\n",
        "    print(\"  Value: {}\".format(trial.value))\n",
        "    print(\"  Params: \")\n",
        "    for key, value in trial.params.items():\n",
        "        print(\"    {}: {}\".format(key, value))"
      ]
    },
    {
      "cell_type": "code",
      "execution_count": 15,
      "metadata": {},
      "outputs": [
        {
          "name": "stdout",
          "output_type": "stream",
          "text": [
            "El modelo XGB calibrado usando Optuna tiene un RMSE igual a 3710.6242470718694 y un MAE igual a 2429.386473849335\n"
          ]
        }
      ],
      "source": [
        "# Definición del modelo XGBoost con los parámetros encontrados por Optuna\n",
        "xgb_cal_2 = XGBRegressor(\n",
        "    booster='gbtree',\n",
        "    reg_lambda=0.9501091374676599,\n",
        "    alpha=2.2458201898736107e-06,\n",
        "    subsample=0.33554148719968135,\n",
        "    colsample_bytree=0.6131209517619073,\n",
        "    n_estimators= 988,\n",
        "    max_depth=3,\n",
        "    min_child_weight=8,\n",
        "    eta=0.9710181349940284,\n",
        "    gamma=0.0031652899319421076,\n",
        "    grow_policy='depthwise',\n",
        "    random_state=1\n",
        ")\n",
        "xgb_cal_2.fit(X_train, y_train)\n",
        "y_pred = xgb_cal_2.predict(X_test)\n",
        "mse_xgb_cal_2 = mean_squared_error(y_test, y_pred)\n",
        "mae_xgb_cal_2 = mean_absolute_error(y_test, y_pred)\n",
        "rmse_xgb_cal_2 = np.sqrt(mse_xgb_cal_2)\n",
        "print(\"El modelo XGB calibrado usando Optuna tiene un RMSE igual a \" +str(rmse_xgb_cal_2)+ \" y un MAE igual a \"+str(mae_xgb_cal_2))"
      ]
    },
    {
      "cell_type": "code",
      "execution_count": 16,
      "metadata": {},
      "outputs": [
        {
          "name": "stderr",
          "output_type": "stream",
          "text": [
            "[I 2024-04-21 12:54:26,122] A new study created in memory with name: no-name-47d590b6-2e26-4abd-9be9-f5a6d9491aea\n",
            "[I 2024-04-21 12:56:57,494] Trial 0 finished with value: 115455644.06918 and parameters: {'lambda': 0.008119632190766394, 'alpha': 0.02438119977365513, 'subsample': 0.2897167851064407, 'colsample_bytree': 0.7655426129863929, 'n_estimators': 575, 'max_depth': 5, 'min_child_weight': 9, 'eta': 2.6111283060085968e-05, 'gamma': 5.150454034388897e-06, 'grow_policy': 'depthwise'}. Best is trial 0 with value: 115455644.06918.\n",
            "[I 2024-04-21 12:59:06,652] Trial 1 finished with value: 114780738.72714 and parameters: {'lambda': 0.0004999103558476247, 'alpha': 0.000675416736866355, 'subsample': 0.5036687862496991, 'colsample_bytree': 0.5548708707000428, 'n_estimators': 265, 'max_depth': 5, 'min_child_weight': 4, 'eta': 0.0011592274565740952, 'gamma': 326.3072679793406, 'grow_policy': 'depthwise'}. Best is trial 1 with value: 114780738.72714.\n",
            "[I 2024-04-21 13:01:00,581] Trial 2 finished with value: 115477217.75042 and parameters: {'lambda': 5.568387801510093e-08, 'alpha': 5.006670206735194e-05, 'subsample': 0.5347160484690535, 'colsample_bytree': 0.5588621968229183, 'n_estimators': 175, 'max_depth': 7, 'min_child_weight': 3, 'eta': 1.2395259996406132e-07, 'gamma': 1.3496309753268236e-06, 'grow_policy': 'lossguide'}. Best is trial 1 with value: 114780738.72714.\n",
            "[I 2024-04-21 13:04:05,338] Trial 3 finished with value: 115477217.75042 and parameters: {'lambda': 0.6441818620966049, 'alpha': 2.1515167165916145e-07, 'subsample': 0.5050823914862342, 'colsample_bytree': 0.565228390974277, 'n_estimators': 979, 'max_depth': 9, 'min_child_weight': 10, 'eta': 2.2264353253936317e-07, 'gamma': 5.707792263869478e-07, 'grow_policy': 'lossguide'}. Best is trial 1 with value: 114780738.72714.\n",
            "[I 2024-04-21 13:05:51,921] Trial 4 finished with value: 100965444.23553 and parameters: {'lambda': 0.02805080036314085, 'alpha': 0.0003157253026229321, 'subsample': 0.7817962059217425, 'colsample_bytree': 0.7991010613532612, 'n_estimators': 599, 'max_depth': 9, 'min_child_weight': 3, 'eta': 0.015717885700360222, 'gamma': 3.6186607484170263, 'grow_policy': 'lossguide'}. Best is trial 4 with value: 100965444.23553.\n"
          ]
        },
        {
          "name": "stdout",
          "output_type": "stream",
          "text": [
            "Number of finished trials:  5\n",
            "Best trial:\n",
            "  Value: 100965444.23553\n",
            "  Params: \n",
            "    lambda: 0.02805080036314085\n",
            "    alpha: 0.0003157253026229321\n",
            "    subsample: 0.7817962059217425\n",
            "    colsample_bytree: 0.7991010613532612\n",
            "    n_estimators: 599\n",
            "    max_depth: 9\n",
            "    min_child_weight: 3\n",
            "    eta: 0.015717885700360222\n",
            "    gamma: 3.6186607484170263\n",
            "    grow_policy: lossguide\n"
          ]
        }
      ],
      "source": [
        "# Intento #4 cambiando los valores del parámetro gamma\n",
        "import xgboost as xgb\n",
        "\n",
        "np.random.seed(42)\n",
        "\n",
        "def objective(trial):\n",
        "    data = df_train.drop(['Price'], axis=1).values\n",
        "    target = df_train['Price'].values\n",
        "    train_x, valid_x, train_y, valid_y = train_test_split(data, target, test_size=0.25, random_state=42)\n",
        "    dtrain = xgb.DMatrix(train_x, label=train_y)\n",
        "    dvalid = xgb.DMatrix(valid_x, label=valid_y)\n",
        "\n",
        "    param = {\n",
        "        \"verbosity\": 0,\n",
        "        \"objective\": \"reg:squarederror\",\n",
        "        # use exact for small dataset.\n",
        "        \"tree_method\": \"approx\",\n",
        "        # defines booster, gblinear for linear functions.\n",
        "        \"booster\": \"gbtree\",  # Fijar el booster como gbtree\n",
        "        # L2 regularization weight.\n",
        "        \"lambda\": trial.suggest_float(\"lambda\", 1e-8, 1.0, log=True),\n",
        "        # L1 regularization weight.\n",
        "        \"alpha\": trial.suggest_float(\"alpha\", 1e-8, 1.0, log=True),\n",
        "        # sampling ratio for training data.\n",
        "        \"subsample\": trial.suggest_float(\"subsample\", 0.2, 1.0),\n",
        "        # sampling according to each tree.\n",
        "        \"colsample_bytree\": trial.suggest_float(\"colsample_bytree\", 0.2, 1.0),\n",
        "        # número de árboles en el ensamble\n",
        "        \"n_estimators\": trial.suggest_int(\"n_estimators\", 100, 1000),\n",
        "    }\n",
        "\n",
        "    # Parámetros específicos de gbtree\n",
        "    param[\"max_depth\"] = trial.suggest_int(\"max_depth\", 3, 9, step=2)\n",
        "    param[\"min_child_weight\"] = trial.suggest_int(\"min_child_weight\", 2, 10)\n",
        "    param[\"eta\"] = trial.suggest_float(\"eta\", 1e-8, 1.0, log=True)\n",
        "    param[\"gamma\"] = trial.suggest_float(\"gamma\", 1e-8, 500, log=True)\n",
        "    param[\"grow_policy\"] = trial.suggest_categorical(\"grow_policy\", [\"depthwise\", \"lossguide\"])\n",
        "\n",
        "    bst = xgb.train(param, dtrain)\n",
        "    preds = bst.predict(dvalid)\n",
        "    pred_labels = np.rint(preds)\n",
        "    mse = mean_squared_error(valid_y, pred_labels)\n",
        "    return mse\n",
        "\n",
        "if __name__ == \"__main__\":\n",
        "    study = optuna.create_study(direction=\"minimize\")\n",
        "    study.optimize(objective, n_trials=50, timeout=600)\n",
        "\n",
        "    print(\"Number of finished trials: \", len(study.trials))\n",
        "    print(\"Best trial:\")\n",
        "    trial = study.best_trial\n",
        "\n",
        "    print(\"  Value: {}\".format(trial.value))\n",
        "    print(\"  Params: \")\n",
        "    for key, value in trial.params.items():\n",
        "        print(\"    {}: {}\".format(key, value))"
      ]
    },
    {
      "cell_type": "code",
      "execution_count": 17,
      "metadata": {},
      "outputs": [
        {
          "name": "stdout",
          "output_type": "stream",
          "text": [
            "El modelo XGB calibrado usando Optuna tiene un RMSE igual a 14661.93511503733 y un MAE igual a 3359.0648440740774\n"
          ]
        }
      ],
      "source": [
        "# Definición del modelo XGBoost con los parámetros encontrados por Optuna\n",
        "xgb_2 = XGBRegressor(\n",
        "    reg_lambda=9.564561673448604e-07,\n",
        "    alpha=1.6980413730845048e-05,\n",
        "    subsample=0.2288913151339783,\n",
        "    colsample_bytree=0.9932758875637113,\n",
        "    n_estimators= 699,\n",
        "    max_depth=9,\n",
        "    min_child_weight=5,\n",
        "    eta=0.9676347877899362,\n",
        "    gamma=1.115418460534174e-08,\n",
        "    grow_policy='lossguide',\n",
        "    random_state=1\n",
        ")\n",
        "xgb_2.fit(X_train, y_train)\n",
        "y_pred = xgb_2.predict(X_test)\n",
        "mse_xgb_2 = mean_squared_error(y_test, y_pred)\n",
        "mae_xgb_2 = mean_absolute_error(y_test, y_pred)\n",
        "rmse_xgb_2 = np.sqrt(mse_xgb_2)\n",
        "print(\"El modelo XGB calibrado usando Optuna tiene un RMSE igual a \" +str(rmse_xgb_2)+ \" y un MAE igual a \"+str(mae_xgb_2))"
      ]
    },
    {
      "cell_type": "code",
      "execution_count": 18,
      "metadata": {},
      "outputs": [],
      "source": [
        "from sklearn.model_selection import cross_val_score\n",
        "import matplotlib.pyplot as plt\n",
        "# Calibración de gamma\n",
        "gamma = np.arange(0, 100, 10 )\n",
        "MSE_2 = []\n",
        "for valor in gamma:\n",
        "    xgb = XGBRegressor(gamma=valor, random_state=1)\n",
        "    MSE_2.append(cross_val_score(xgb, X_train, y_train, cv=5, scoring='neg_mean_squared_error').mean())\n",
        "    MSE_2 = [abs(valor) for valor in MSE_2]"
      ]
    },
    {
      "cell_type": "code",
      "execution_count": 19,
      "metadata": {},
      "outputs": [
        {
          "data": {
            "text/plain": [
              "Text(0, 0.5, 'MSE')"
            ]
          },
          "execution_count": 19,
          "metadata": {},
          "output_type": "execute_result"
        },
        {
          "data": {
            "image/png": "[encoded data removed]",
            "text/plain": [
              "<Figure size 640x480 with 1 Axes>"
            ]
          },
          "metadata": {},
          "output_type": "display_data"
        }
      ],
      "source": [
        "plt.plot(gamma, MSE_2)\n",
        "plt.title(\"Desempeño de XGBoost por cada valor de gamma\")\n",
        "plt.xlabel('gamma')\n",
        "plt.ylabel('MSE')"
      ]
    },
    {
      "cell_type": "markdown",
      "metadata": {},
      "source": [
        "# Cargar predicciones en Kaggle"
      ]
    },
    {
      "cell_type": "code",
      "execution_count": 20,
      "metadata": {
        "id": "AuaaUkJnXQWU",
        "outputId": "059224b3-14e9-479a-b522-fc0cbb689d44"
      },
      "outputs": [
        {
          "name": "stdout",
          "output_type": "stream",
          "text": [
            "<class 'pandas.core.frame.DataFrame'>\n",
            "Index: 300000 entries, 34894 to 121958\n",
            "Columns: 616 entries, Year to Model_xD5dr\n",
            "dtypes: int64(616)\n",
            "memory usage: 1.4 GB\n"
          ]
        }
      ],
      "source": [
        "X_train.info()"
      ]
    },
    {
      "cell_type": "code",
      "execution_count": 21,
      "metadata": {
        "id": "QJknYwT_XQWV",
        "outputId": "1428c820-2146-481a-b6a9-aad3d5bdcc41"
      },
      "outputs": [
        {
          "data": {
            "text/plain": [
              "Index(['Year', 'Mileage', 'State_ AK', 'State_ AL', 'State_ AR', 'State_ AZ',\n",
              "       'State_ CA', 'State_ CO', 'State_ CT', 'State_ DC',\n",
              "       ...\n",
              "       'Model_Yaris4dr', 'Model_YarisBase', 'Model_YarisLE', 'Model_Yukon',\n",
              "       'Model_Yukon2WD', 'Model_Yukon4WD', 'Model_Yukon4dr', 'Model_tC2dr',\n",
              "       'Model_xB5dr', 'Model_xD5dr'],\n",
              "      dtype='object', length=616)"
            ]
          },
          "execution_count": 21,
          "metadata": {},
          "output_type": "execute_result"
        }
      ],
      "source": [
        "X_train.columns"
      ]
    },
    {
      "cell_type": "code",
      "execution_count": 22,
      "metadata": {
        "id": "GH273Up_XQWd"
      },
      "outputs": [],
      "source": [
        "# Codificar variables categóricas en df_test\n",
        "df_test_ = pd.get_dummies(df_test, columns=categorical_columns).astype(int)\n",
        "\n",
        "# Alinear las columnas de df_test con X_train\n",
        "df_test_aligned, _ = df_test_.align(X_train, axis=1, fill_value=0)\n",
        "\n",
        "column_order = X_train.columns.tolist()\n",
        "\n",
        "# Reordenar las columnas de df_test_aligned de acuerdo con el orden en X_train\n",
        "df_test_ordenado = df_test_aligned[column_order]"
      ]
    },
    {
      "cell_type": "code",
      "execution_count": 23,
      "metadata": {
        "id": "sR6rRk4vXQWe",
        "outputId": "ecc6eb21-29f7-4694-fd91-2b476265db41"
      },
      "outputs": [
        {
          "data": {
            "text/plain": [
              "Index(['Year', 'Mileage', 'State_ AK', 'State_ AL', 'State_ AR', 'State_ AZ',\n",
              "       'State_ CA', 'State_ CO', 'State_ CT', 'State_ DC',\n",
              "       ...\n",
              "       'Model_Yaris4dr', 'Model_YarisBase', 'Model_YarisLE', 'Model_Yukon',\n",
              "       'Model_Yukon2WD', 'Model_Yukon4WD', 'Model_Yukon4dr', 'Model_tC2dr',\n",
              "       'Model_xB5dr', 'Model_xD5dr'],\n",
              "      dtype='object', length=616)"
            ]
          },
          "execution_count": 23,
          "metadata": {},
          "output_type": "execute_result"
        }
      ],
      "source": [
        "df_test_ordenado.columns"
      ]
    },
    {
      "cell_type": "code",
      "execution_count": 25,
      "metadata": {
        "id": "4usiAcIJXQWg",
        "outputId": "f23f280f-6cae-4d60-bd89-10708ed029b5"
      },
      "outputs": [
        {
          "name": "stdout",
          "output_type": "stream",
          "text": [
            "El modelo XGB calibrado usando GreedSearch tiene un RMSE igual a 3903.2092890134386 y un MAE igual a 2568.201309489746\n"
          ]
        }
      ],
      "source": [
        "# El modelo montado en Kaggle fue:\n",
        "xgb_calibrado_3 = XGBRegressor(\n",
        "    booster='gbtree',\n",
        "    reg_lambda=0.30212357583678445,\n",
        "    alpha=0.18211410327397226,\n",
        "    subsample=0.3521449713976327,\n",
        "    colsample_bytree=0.44811953613366806,\n",
        "    max_depth=9,\n",
        "    min_child_weight=9,\n",
        "    eta=0.8918833748094722,\n",
        "    gamma=0.00034064735565798957,\n",
        "    grow_policy='lossguide',\n",
        "    random_state=1  # Si deseas mantener una semilla aleatoria fija\n",
        ")\n",
        "xgb_calibrado_3.fit(X_train, y_train)\n",
        "y_pred = xgb_calibrado_3.predict(X_test)\n",
        "mse_xgb_calibrado_3 = mean_squared_error(y_test, y_pred)\n",
        "mae_xgb_calibrado_3 = mean_absolute_error(y_test, y_pred)\n",
        "rmse_xgb_calibrado_3 = np.sqrt(mse_xgb_calibrado_3)\n",
        "print(\"El modelo XGB calibrado usando GreedSearch tiene un RMSE igual a \" +str(rmse_xgb_calibrado_3)+ \" y un MAE igual a \"+str(mae_xgb_calibrado_3))"
      ]
    },
    {
      "cell_type": "code",
      "execution_count": 26,
      "metadata": {},
      "outputs": [],
      "source": [
        "# Se usa df_test_aligned para predecir\n",
        "y_pred = xgb_cal.predict(df_test_ordenado)\n",
        "\n",
        "predictions_df = pd.DataFrame(y_pred, index=df_test_ordenado.index, columns=['Price'])\n",
        "\n",
        "predictions_df.to_csv('predicciones.csv')"
      ]
    }
  ],
  "metadata": {
    "colab": {
      "provenance": []
    },
    "kernelspec": {
      "display_name": "Python 3 (ipykernel)",
      "language": "python",
      "name": "python3"
    },
    "language_info": {
      "codemirror_mode": {
        "name": "ipython",
        "version": 3
      },
      "file_extension": ".py",
      "mimetype": "text/x-python",
      "name": "python",
      "nbconvert_exporter": "python",
      "pygments_lexer": "ipython3",
      "version": "3.11.8"
    }
  },
  "nbformat": 4,
  "nbformat_minor": 0
}
